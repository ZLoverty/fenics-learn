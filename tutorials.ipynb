{
 "cells": [
  {
   "cell_type": "code",
   "execution_count": 1,
   "id": "07613edd-4c10-46f1-9a01-c23732a267ec",
   "metadata": {},
   "outputs": [
    {
     "name": "stdout",
     "output_type": "stream",
     "text": [
      "Gmsh mesh generated on rank 0.\n"
     ]
    }
   ],
   "source": [
    "import gmsh\n",
    "import dolfinx.io.gmshio\n",
    "import dolfinx.mesh\n",
    "from mpi4py import MPI\n",
    "import pyvista\n",
    "import dolfinx.plot\n",
    "\n",
    "# --- Gmsh mesh generation ---\n",
    "# Initialize Gmsh (only on the rank that will generate the mesh, typically rank 0)\n",
    "gmsh_model_rank = 0\n",
    "comm = MPI.COMM_WORLD\n",
    "mesh = None # Initialize mesh to None\n",
    "\n",
    "if comm.rank == gmsh_model_rank:\n",
    "    gmsh.initialize()\n",
    "    gmsh.option.setNumber(\"General.Terminal\", 0) # Suppress Gmsh output\n",
    "    model = gmsh.model\n",
    "    model.add(\"annulus\")\n",
    "    model.setCurrent(\"annulus\")\n",
    "\n",
    "    # Define inner and outer radii\n",
    "    inner_radius = 0.5\n",
    "    outer_radius = 1.0\n",
    "    mesh_size = 0.05 # Adjust for mesh density (made slightly finer)\n",
    "\n",
    "    # Create points (optional for circles, but good practice)\n",
    "    # center = model.geo.addPoint(0, 0, 0, mesh_size)\n",
    "    # p_inner = model.geo.addPoint(inner_radius, 0, 0, mesh_size)\n",
    "    # p_outer = model.geo.addPoint(outer_radius, 0, 0, mesh_size)\n",
    "\n",
    "    # Create circles (using OpenCASCADE kernel)\n",
    "    # addCircle returns the curve tag\n",
    "    c_outer = model.occ.addCircle(0, 0, 0, outer_radius)\n",
    "    c_inner = model.occ.addCircle(0, 0, 0, inner_radius) # Inner circle tag will likely be c_outer + 1\n",
    "\n",
    "    # --- Corrected part: Create Curve Loops from the circles ---\n",
    "    # addCurveLoop expects a list of curve tags\n",
    "    loop_outer = model.occ.addCurveLoop([c_outer])\n",
    "    loop_inner = model.occ.addCurveLoop([c_inner])\n",
    "    # -------------------------------------------------------\n",
    "\n",
    "    # Create surfaces from the curve loops\n",
    "    # addPlaneSurface expects a list of curve loop tags\n",
    "    # The first loop defines the outer boundary, subsequent loops define holes\n",
    "    annulus_surface = model.occ.addPlaneSurface([loop_outer, loop_inner])\n",
    "\n",
    "\n",
    "    # Synchronize the OCC model with the Gmsh model\n",
    "    model.occ.synchronize()\n",
    "\n",
    "    # Add physical group for the domain (the annulus surface)\n",
    "    domain_tag = 1\n",
    "    # annulus_surface[0][1] gets the tag of the created surface entity\n",
    "    model.addPhysicalGroup(2, [annulus_surface], domain_tag) # Use the surface tag directly\n",
    "    model.setPhysicalName(2, domain_tag, \"annulus_domain\")\n",
    "\n",
    "    # Add physical groups for boundaries (inner and outer circles)\n",
    "    outer_boundary_tag = 10\n",
    "    inner_boundary_tag = 20\n",
    "    # getEntitiesForPhysicalGroup returns entities belonging to physical group\n",
    "    # Here we need the curve tags directly for the boundaries\n",
    "    # We can tag the original circles before creating surfaces/loops\n",
    "    model.addPhysicalGroup(1, [c_outer], outer_boundary_tag)\n",
    "    model.setPhysicalName(1, outer_boundary_tag, \"outer_boundary\")\n",
    "    model.addPhysicalGroup(1, [c_inner], inner_boundary_tag)\n",
    "    model.setPhysicalName(1, inner_boundary_tag, \"inner_boundary\")\n",
    "\n",
    "\n",
    "    # Generate the 2D mesh\n",
    "    model.mesh.generate(2)\n",
    "\n",
    "    print(\"Gmsh mesh generated on rank 0.\")\n",
    "\n",
    "# Convert the Gmsh model (on rank 0) to a DOLFINx mesh (distributed)\n",
    "# The dolfinx.io.gmshio.model_to_mesh function handles MPI distribution\n",
    "\n",
    "# model_to_mesh expects the Gmsh model to be passed as the first argument\n",
    "# and the rank where the model was created.\n",
    "mesh, cell_tags, facet_tags = dolfinx.io.gmshio.model_to_mesh(\n",
    "    model=gmsh.model,\n",
    "    comm=comm,\n",
    "    rank=gmsh_model_rank,\n",
    "    gdim=2 # Geometric dimension\n",
    ")\n",
    "mesh.name = \"annulus_mesh\"\n",
    "\n",
    "gmsh.finalize()"
   ]
  },
  {
   "cell_type": "code",
   "execution_count": 2,
   "id": "3bf8c0f3-97a6-4aa7-b263-d947aed57f81",
   "metadata": {},
   "outputs": [
    {
     "data": {
      "application/vnd.jupyter.widget-view+json": {
       "model_id": "2d9e4125f83f4e8c961bb6407d527449",
       "version_major": 2,
       "version_minor": 0
      },
      "text/plain": [
       "Widget(value='<iframe src=\"http://localhost:42063/index.html?ui=P_0x7fbe8e35d6a0_0&reconnect=auto\" class=\"pyvi…"
      ]
     },
     "metadata": {},
     "output_type": "display_data"
    }
   ],
   "source": [
    "# --- PyVista Visualization ---\n",
    "\n",
    "# Convert DOLFINx mesh to PyVista UnstructuredGrid\n",
    "# dolfinx.plot requires a newer version of dolfinx\n",
    "# Note: vtk_mesh function might vary slightly between dolfinx versions\n",
    "cells, types, x = dolfinx.plot.vtk_mesh(mesh)\n",
    "grid = pyvista.UnstructuredGrid(cells, types, x)\n",
    "\n",
    "# Create a plotter\n",
    "plotter = pyvista.Plotter()\n",
    "\n",
    "# Add the mesh - you can color by cell/facet tags if they were created and converted\n",
    "# If you want to visualize the boundaries, you might need to extract them\n",
    "# using mesh tags and potentially create separate mesh objects or use PyVista's filtering\n",
    "plotter.add_mesh(grid, show_edges=True, color='lightblue')\n",
    "\n",
    "# # Set view for 2D mesh\n",
    "plotter.view_xy()\n",
    "plotter.reset_camera()\n",
    "\n",
    "# # Display the plot\n",
    "plotter.show()"
   ]
  },
  {
   "cell_type": "code",
   "execution_count": 6,
   "id": "1a5138c0-7e51-4d52-8dc7-e7a45d49e88a",
   "metadata": {},
   "outputs": [],
   "source": [
    "from mpi4py import MPI\n",
    "import dolfinx\n",
    "import numpy as np\n",
    "import pyvista"
   ]
  },
  {
   "cell_type": "code",
   "execution_count": 10,
   "id": "31627a49-75c7-49cd-ba2a-e85854e70918",
   "metadata": {},
   "outputs": [],
   "source": [
    "from mpi4py import MPI\n",
    "from dolfinx import mesh\n",
    "domain = mesh.create_unit_square(MPI.COMM_WORLD, 8, 8, mesh.CellType.quadrilateral)"
   ]
  },
  {
   "cell_type": "code",
   "execution_count": 11,
   "id": "2f068ddd-3929-410b-82ca-43d86402d6dc",
   "metadata": {},
   "outputs": [
    {
     "data": {
      "application/vnd.jupyter.widget-view+json": {
       "model_id": "b3ece75f7ab04e4cba7779a869c113fc",
       "version_major": 2,
       "version_minor": 0
      },
      "text/plain": [
       "Widget(value='<iframe src=\"http://localhost:44355/index.html?ui=P_0x7f5080b98910_2&reconnect=auto\" class=\"pyvi…"
      ]
     },
     "metadata": {},
     "output_type": "display_data"
    }
   ],
   "source": [
    "# visualize mesh\n",
    "# --- PyVista Visualization ---\n",
    "\n",
    "# Convert DOLFINx mesh to PyVista UnstructuredGrid\n",
    "# dolfinx.plot requires a newer version of dolfinx\n",
    "# Note: vtk_mesh function might vary slightly between dolfinx versions\n",
    "cells, types, x = dolfinx.plot.vtk_mesh(domain)\n",
    "grid = pyvista.UnstructuredGrid(cells, types, x)\n",
    "\n",
    "# Create a plotter\n",
    "plotter = pyvista.Plotter()\n",
    "\n",
    "# Add the mesh - you can color by cell/facet tags if they were created and converted\n",
    "# If you want to visualize the boundaries, you might need to extract them\n",
    "# using mesh tags and potentially create separate mesh objects or use PyVista's filtering\n",
    "plotter.add_mesh(grid, show_edges=True, color='lightblue')\n",
    "\n",
    "# # Set view for 2D mesh\n",
    "plotter.view_xy()\n",
    "plotter.reset_camera()\n",
    "\n",
    "# # Display the plot\n",
    "plotter.show()"
   ]
  },
  {
   "cell_type": "code",
   "execution_count": 36,
   "id": "9c8fa104-a9b5-4244-b2a5-544e8df8aa85",
   "metadata": {},
   "outputs": [
    {
     "data": {
      "text/plain": [
       "<matplotlib.image.AxesImage at 0x7f5038574b90>"
      ]
     },
     "execution_count": 36,
     "metadata": {},
     "output_type": "execute_result"
    },
    {
     "data": {
      "image/png": "[encoded data removed]",
      "text/plain": [
       "<Figure size 640x480 with 1 Axes>"
      ]
     },
     "metadata": {},
     "output_type": "display_data"
    }
   ],
   "source": [
    "plt.imshow(x[:, 1].reshape(9,9))"
   ]
  },
  {
   "cell_type": "code",
   "execution_count": 12,
   "id": "e989d338-a8c2-4d4a-9d0a-6ad7502001cd",
   "metadata": {},
   "outputs": [],
   "source": [
    "from dolfinx.fem import functionspace\n",
    "V = functionspace(domain, (\"Lagrange\", 1))"
   ]
  },
  {
   "cell_type": "code",
   "execution_count": 26,
   "id": "c24e449b-5381-4a34-9fd3-861802233117",
   "metadata": {},
   "outputs": [],
   "source": [
    "from dolfinx import fem\n",
    "uD = fem.Function(V)\n",
    "uD.interpolate(lambda x: x[0]+x[1])"
   ]
  },
  {
   "cell_type": "code",
   "execution_count": 28,
   "id": "d21dcb8b-3b2d-4cc2-a338-246309cd2542",
   "metadata": {},
   "outputs": [
    {
     "data": {
      "text/plain": [
       "<matplotlib.colorbar.Colorbar at 0x7f5038748050>"
      ]
     },
     "execution_count": 28,
     "metadata": {},
     "output_type": "execute_result"
    },
    {
     "data": {
      "image/png": "[encoded data removed]",
      "text/plain": [
       "<Figure size 640x480 with 2 Axes>"
      ]
     },
     "metadata": {},
     "output_type": "display_data"
    }
   ],
   "source": [
    "# visualize function uD with plt\n",
    "import matplotlib.pyplot as plt\n",
    "plt.imshow(uD.x.array.reshape(9,9))\n",
    "plt.colorbar()"
   ]
  },
  {
   "cell_type": "code",
   "execution_count": 55,
   "id": "421ab944-2447-4711-838d-78b3cb385313",
   "metadata": {},
   "outputs": [],
   "source": [
    "import numpy\n",
    "# Create facet to cell connectivity required to determine boundary facets\n",
    "tdim = domain.topology.dim\n",
    "fdim = tdim - 1\n",
    "domain.topology.create_connectivity(fdim, tdim) # connectivity between face and edge\n",
    "boundary_facets = mesh.exterior_facet_indices(domain.topology) # determine boundary using the connectivity data"
   ]
  },
  {
   "cell_type": "code",
   "execution_count": 41,
   "id": "aca07780-c3b7-4421-9295-43d33f2a4485",
   "metadata": {},
   "outputs": [
    {
     "data": {
      "text/plain": [
       "array([  0,   1,   3,   5,   9,  13,  17,  23,  27,  35,  39,  49,  53,\n",
       "        65,  69,  83,  86,  87, 100, 101, 102, 113, 114, 123, 124, 131,\n",
       "       132, 137, 138, 141, 142, 143], dtype=int32)"
      ]
     },
     "execution_count": 41,
     "metadata": {},
     "output_type": "execute_result"
    }
   ],
   "source": [
    "boundary_facets"
   ]
  },
  {
   "cell_type": "code",
   "execution_count": 56,
   "id": "57d491e0-8312-4eca-99d8-680369797642",
   "metadata": {},
   "outputs": [],
   "source": [
    "boundary_dofs = fem.locate_dofs_topological(V, fdim, boundary_facets)\n",
    "bc = fem.dirichletbc(uD, boundary_dofs)"
   ]
  },
  {
   "cell_type": "code",
   "execution_count": 58,
   "id": "9e44d837-b973-4a36-a911-752b7f872930",
   "metadata": {},
   "outputs": [
    {
     "data": {
      "text/plain": [
       "array([ 0,  1,  2,  4,  6,  8, 11, 13, 17, 19, 24, 26, 32, 34, 41, 43, 44,\n",
       "       51, 52, 53, 59, 60, 65, 66, 70, 71, 74, 75, 77, 78, 79, 80],\n",
       "      dtype=int32)"
      ]
     },
     "execution_count": 58,
     "metadata": {},
     "output_type": "execute_result"
    }
   ],
   "source": [
    "boundary_dofs # boundary dof refers to the indices of nodes, while boundary_facets are indices of D-1 topological entities, in 2D case the edges"
   ]
  },
  {
   "cell_type": "code",
   "execution_count": 6,
   "id": "c87bce0f-ada9-468f-8b1a-c4a2c1dd7a9e",
   "metadata": {},
   "outputs": [
    {
     "ename": "TypeError",
     "evalue": "FunctionSpace.__init__() got an unexpected keyword argument 'dim'",
     "output_type": "error",
     "traceback": [
      "\u001b[31m---------------------------------------------------------------------------\u001b[39m",
      "\u001b[31mTypeError\u001b[39m                                 Traceback (most recent call last)",
      "\u001b[36mCell\u001b[39m\u001b[36m \u001b[39m\u001b[32mIn[6]\u001b[39m\u001b[32m, line 3\u001b[39m\n\u001b[32m      1\u001b[39m \u001b[38;5;66;03m# 3. Function Spaces\u001b[39;00m\n\u001b[32m      2\u001b[39m \u001b[38;5;66;03m# Vector function space for velocity\u001b[39;00m\n\u001b[32m----> \u001b[39m\u001b[32m3\u001b[39m V = \u001b[43mfem\u001b[49m\u001b[43m.\u001b[49m\u001b[43mFunctionSpace\u001b[49m\u001b[43m(\u001b[49m\u001b[43mmesh\u001b[49m\u001b[43m,\u001b[49m\u001b[43m \u001b[49m\u001b[43m(\u001b[49m\u001b[33;43m\"\u001b[39;49m\u001b[33;43mLagrange\u001b[39;49m\u001b[33;43m\"\u001b[39;49m\u001b[43m,\u001b[49m\u001b[43m \u001b[49m\u001b[32;43m2\u001b[39;49m\u001b[43m)\u001b[49m\u001b[43m,\u001b[49m\u001b[43m \u001b[49m\u001b[43mdim\u001b[49m\u001b[43m=\u001b[49m\u001b[32;43m2\u001b[39;49m\u001b[43m)\u001b[49m\n\u001b[32m      4\u001b[39m \u001b[38;5;66;03m# Scalar function space for pressure\u001b[39;00m\n\u001b[32m      5\u001b[39m Q = fem.FunctionSpace(mesh, (\u001b[33m\"\u001b[39m\u001b[33mLagrange\u001b[39m\u001b[33m\"\u001b[39m, \u001b[32m1\u001b[39m))\n",
      "\u001b[31mTypeError\u001b[39m: FunctionSpace.__init__() got an unexpected keyword argument 'dim'"
     ]
    }
   ],
   "source": [
    "# 3. Function Spaces\n",
    "# Vector function space for velocity\n",
    "V = fem.FunctionSpace(mesh, (\"Lagrange\", 2), dim=2)\n",
    "# Scalar function space for pressure\n",
    "Q = fem.FunctionSpace(mesh, (\"Lagrange\", 1))\n",
    "# Mixed function space for velocity and pressure\n",
    "W = fem.FunctionSpace(mesh, fem.MixedElement([V.element, Q.element]))"
   ]
  },
  {
   "cell_type": "code",
   "execution_count": 3,
   "id": "f2015e50-403a-4bb0-b6d9-231971cb875a",
   "metadata": {},
   "outputs": [
    {
     "ename": "NameError",
     "evalue": "name 'basix' is not defined",
     "output_type": "error",
     "traceback": [
      "\u001b[31m---------------------------------------------------------------------------\u001b[39m",
      "\u001b[31mNameError\u001b[39m                                 Traceback (most recent call last)",
      "\u001b[36mCell\u001b[39m\u001b[36m \u001b[39m\u001b[32mIn[3]\u001b[39m\u001b[32m, line 5\u001b[39m\n\u001b[32m      1\u001b[39m \u001b[38;5;66;03m# 4. Define the Finite Element Function Space for the Q-tensor\u001b[39;00m\n\u001b[32m      2\u001b[39m \u001b[38;5;66;03m# In 2D, a symmetric traceless tensor Q = [[Qxx, Qxy], [Qxy, -Qxx]]\u001b[39;00m\n\u001b[32m      3\u001b[39m \u001b[38;5;66;03m# can be represented by a 2-component vector [Qxx, Qxy]\u001b[39;00m\n\u001b[32m      4\u001b[39m \u001b[38;5;66;03m# We'll use continuous Galerkin (CG) elements, degree 1 (P1) as a start\u001b[39;00m\n\u001b[32m----> \u001b[39m\u001b[32m5\u001b[39m Q_element = \u001b[43mbasix\u001b[49m.ufl.element(\u001b[33m\"\u001b[39m\u001b[33mCG\u001b[39m\u001b[33m\"\u001b[39m, mesh.basix_cell(), \u001b[32m1\u001b[39m, shape=(\u001b[32m2\u001b[39m,))\n\u001b[32m      6\u001b[39m V = dolfinx.fem.functionspace(mesh, Q_element)\n",
      "\u001b[31mNameError\u001b[39m: name 'basix' is not defined"
     ]
    }
   ],
   "source": [
    "# 4. Define the Finite Element Function Space for the Q-tensor\n",
    "# In 2D, a symmetric traceless tensor Q = [[Qxx, Qxy], [Qxy, -Qxx]]\n",
    "# can be represented by a 2-component vector [Qxx, Qxy]\n",
    "# We'll use continuous Galerkin (CG) elements, degree 1 (P1) as a start\n",
    "Q_element = basix.ufl.element(\"CG\", mesh.basix_cell(), 1, shape=(2,))\n",
    "V = dolfinx.fem.functionspace(mesh, Q_element)"
   ]
  },
  {
   "cell_type": "code",
   "execution_count": null,
   "id": "26edd4f0-3fe1-43a2-adfc-7edc02038938",
   "metadata": {},
   "outputs": [
    {
     "name": "stdout",
     "output_type": "stream",
     "text": [
      "Gmsh mesh generated on rank 0.\n",
      "DOLFINx mesh created on rank 0.\n",
      "Gmsh finalized on rank 0.\n"
     ]
    },
    {
     "ename": "AttributeError",
     "evalue": "module 'dolfinx.fem' has no attribute 'VectorFunctionSpace'",
     "output_type": "error",
     "traceback": [
      "\u001b[31m---------------------------------------------------------------------------\u001b[39m",
      "\u001b[31mAttributeError\u001b[39m                            Traceback (most recent call last)",
      "\u001b[36mCell\u001b[39m\u001b[36m \u001b[39m\u001b[32mIn[12]\u001b[39m\u001b[32m, line 151\u001b[39m\n\u001b[32m    146\u001b[39m         \u001b[38;5;28;01mreturn\u001b[39;00m (\u001b[32m2\u001b[39m,) \u001b[38;5;66;03m# For a 2-component vector space\u001b[39;00m\n\u001b[32m    149\u001b[39m \u001b[38;5;66;03m# Instantiate the placeholder RHS term (u_n will be defined later)\u001b[39;00m\n\u001b[32m    150\u001b[39m \u001b[38;5;66;03m# For now, pass None for u_n or define a dummy function\u001b[39;00m\n\u001b[32m--> \u001b[39m\u001b[32m151\u001b[39m u_n_placeholder = dolfinx.fem.Function(\u001b[43mdolfinx\u001b[49m\u001b[43m.\u001b[49m\u001b[43mfem\u001b[49m\u001b[43m.\u001b[49m\u001b[43mVectorFunctionSpace\u001b[49m(mesh, (\u001b[33m\"\u001b[39m\u001b[33mCG\u001b[39m\u001b[33m\"\u001b[39m, \u001b[32m1\u001b[39m), dim=\u001b[32m2\u001b[39m)) \u001b[38;5;66;03m# Dummy u_n\u001b[39;00m\n\u001b[32m    152\u001b[39m rhs_term = RHSTerm(Q_n, u_n_placeholder, mesh, Gamma, dt)\n\u001b[32m    155\u001b[39m \u001b[38;5;66;03m# Define the terms of the weak form using UFL\u001b[39;00m\n\u001b[32m    156\u001b[39m \u001b[38;5;66;03m# Bilinear form: a(Q, V_test)\u001b[39;00m\n",
      "\u001b[31mAttributeError\u001b[39m: module 'dolfinx.fem' has no attribute 'VectorFunctionSpace'"
     ]
    }
   ],
   "source": [
    "# 5. Define Trial and Test Functions\n",
    "Q = ufl.TrialFunction(V) # The unknown solution at time step n+1\n",
    "V_test = ufl.TestFunction(V) # The test function\n",
    "\n",
    "# 6. Define the solution at the previous time step\n",
    "Q_n = dolfinx.fem.Function(V) # This will hold the solution from the previous step\n",
    "\n",
    "# 7. Define the Variational Problem (Simplified)\n",
    "# We'll implement the terms from:\n",
    "# integral(1/dt * Q_n+1 . V dx) + integral(Gamma * grad(Q_n+1) : grad(V) dx) = integral(RHS_n . V dx) + boundary terms\n",
    "\n",
    "# Placeholder for the RHS term (will be expanded later)\n",
    "# For now, let's just set it to a zero tensor expression\n",
    "# In a real simulation, this would include convection, molecular field, flow alignment etc.\n",
    "class RHSTerm(dolfinx.fem.Expression):\n",
    "    def __init__(self, Q_n, u_n, mesh, Gamma, dt, metadata=None):\n",
    "        # Initialize with parameters needed to compute the RHS\n",
    "        # For now, this placeholder just returns zero\n",
    "        # In a real simulation, you'd use u_n, Q_n, Gamma, etc. here\n",
    "        self._Q_n = Q_n # Example: previous Q\n",
    "        self._u_n = u_n # Example: previous u (needs a function space defined later)\n",
    "        self._Gamma = Gamma\n",
    "        self._dt = dt\n",
    "        self._mesh = mesh # Need mesh to access geometry, etc.\n",
    "        if metadata is None:\n",
    "            metadata = {}\n",
    "        super().__init__(metadata=metadata)\n",
    "\n",
    "    # Define the form evaluation for different points (needed by DOLFINx)\n",
    "    # This simplified version always returns zero\n",
    "    def _evaluate(self, x, cell_entities, c):\n",
    "         # x.shape is (gdim, num_points)\n",
    "         # c.shape is (num_points, value_size) - value_size is dim of element\n",
    "         for i in range(c.shape[0]):\n",
    "             # For a 2D vector space representing Q, value_size is 2\n",
    "             c[i, 0] = 0.0 # Qxx component of RHS\n",
    "             c[i, 1] = 0.0 # Qxy component of RHS\n",
    "\n",
    "    @property\n",
    "    def value_shape(self):\n",
    "        # The shape of the output value at each point\n",
    "        # Matches the dimension of the function space (V)\n",
    "        return (2,) # For a 2-component vector space\n",
    "\n",
    "\n",
    "# Instantiate the placeholder RHS term (u_n will be defined later)\n",
    "# For now, pass None for u_n or define a dummy function\n",
    "u_n_placeholder = dolfinx.fem.Function(dolfinx.fem.VectorFunctionSpace(mesh, (\"CG\", 1), dim=2)) # Dummy u_n\n",
    "rhs_term = RHSTerm(Q_n, u_n_placeholder, mesh, Gamma, dt)\n",
    "\n",
    "\n",
    "# Define the terms of the weak form using UFL\n",
    "# Bilinear form: a(Q, V_test)\n",
    "a = (1/dt) * ufl.inner(Q, V_test) * ufl.dx + \\\n",
    "    Gamma * ufl.inner(ufl.grad(Q), ufl.grad(V_test)) * ufl.dx\n",
    "\n",
    "# Linear form: L(V_test)\n",
    "# Includes the term from the previous time step Q_n and the RHS\n",
    "L = (1/dt) * ufl.inner(Q_n, V_test) * ufl.dx + \\\n",
    "    ufl.inner(rhs_term, V_test) * ufl.dx # Add the RHS term\n",
    "\n",
    "\n",
    "# 8. Boundary Conditions (Placeholder)\n",
    "# For now, let's apply homogeneous Dirichlet conditions (Q = 0 on boundaries)\n",
    "# This is usually NOT physically accurate for nematics, but simplifies the setup.\n",
    "# We'll refine BCs later.\n",
    "\n",
    "# Locate facets on the boundary (tagged by Gmsh)\n",
    "# The Gmsh physical group tags for boundaries were 10 (outer) and 20 (inner)\n",
    "fdim = mesh.topology.dim - 1 # Dimension of facets\n",
    "boundary_facets = facet_tags.find(outer_boundary_tag)\n",
    "boundary_facets = np.append(boundary_facets, facet_tags.find(inner_boundary_tag))\n",
    "\n",
    "# Create a Dirichlet boundary condition object\n",
    "# Value is a constant [0.0, 0.0] for Qxx=0, Qxy=0\n",
    "Q_D = dolfinx.fem.Function(V) # Create a function to hold the boundary value\n",
    "with Q_D.vector.localForm() as loc:\n",
    "    loc.set(0.0) # Set all DoF values to 0.0\n",
    "\n",
    "# Apply the boundary condition to the located facets\n",
    "bc = dolfinx.fem.DirichletBC(Q_D, dolfinx.fem.locate_dofs_geometrical(V, lambda x: np.isclose(x[0], x[0])),\n",
    "                              boundary_facets, mesh.topology.dim - 1) # Using lambda x: np.isclose(x[0], x[0]) is a dummy marker that is always true, applying BC to specified facets\n",
    "\n",
    "\n",
    "bcs = [bc] # List of boundary conditions\n",
    "\n",
    "# 9. Set up the Linear Solver\n",
    "# For the time-implicit diffusion part, we have a linear system: A * Q = B\n",
    "# where A is assembled from 'a', and B is assembled from 'L'\n",
    "# We need to assemble the matrix A and vector B\n",
    "\n",
    "problem = dolfinx.fem.petsc.LinearProblem(a, L, bcs=bcs, petsc_options={\"ksp_type\": \"preonly\", \"pc_type\": \"lu\"})\n",
    "\n",
    "# 10. Time Stepping Loop\n",
    "# Create a Function to store the solution at the current time step\n",
    "Q_solution = dolfinx.fem.Function(V)\n",
    "\n",
    "# Set initial condition (e.g., Q = 0 everywhere)\n",
    "# A uniform Q=0 state might be an unstable equilibrium, need a small perturbation usually\n",
    "Q_n.x.array[:] = 0.0 # Initialize Q_n to zero\n",
    "\n",
    "print(\"Starting time stepping loop...\")\n",
    "time = 0.0\n",
    "for i in range(num_steps):\n",
    "    time += dt\n",
    "\n",
    "    # Solve the linear system for Q_solution (which is Q^n+1)\n",
    "    # The solver uses the forms 'a' and 'L' and boundary conditions 'bcs'\n",
    "    # It solves A * Q_solution = B, where A and B are assembled based on the forms\n",
    "    try:\n",
    "        problem.solve(Q_solution)\n",
    "    except Exception as e:\n",
    "        print(f\"Solver failed at time step {i+1}, time {time:.4f}: {e}\")\n",
    "        # You might want to break or handle the error\n",
    "        break\n",
    "\n",
    "\n",
    "    # Update Q_n for the next time step\n",
    "    Q_n.x.array[:] = Q_solution.x.array[:]\n",
    "\n",
    "    # Optional: Print progress\n",
    "    if (i + 1) % 100 == 0:\n",
    "        print(f\"Completed time step {i+1}/{num_steps} at time {time:.4f}\")\n",
    "\n",
    "    # Optional: Save or visualize results periodically\n",
    "    # This requires setting up output files (e.g., XDMFFile) or visualization\n",
    "    # if (i + 1) % 100 == 0:\n",
    "    #    # Add visualization/saving code here\n",
    "    #    pass\n",
    "\n",
    "\n",
    "print(\"Time stepping loop finished.\")\n",
    "\n",
    "# 11. Visualize the final solution (Optional)\n",
    "# Using the pyvista setup from earlier\n",
    "if mesh and Q_solution:\n",
    "    print(\"Visualizing final solution...\")\n",
    "    try:\n",
    "        # Q_solution is a vector function [Qxx, Qxy]\n",
    "        # We might want to visualize scalar quantities like S^2 = Qij Qij\n",
    "        # Or the orientation and magnitude\n",
    "\n",
    "        # Simple visualization: plot the Qxx component\n",
    "        # You would need to extract the component or define a scalar function space\n",
    "        # For now, let's plot the magnitude ||Q||_F = sqrt(Qxx^2 + Qxy^2 + Qxy^2 + Qxx^2)\n",
    "        # ||Q||_F = sqrt(2 * (Qxx^2 + Qxy^2))\n",
    "        # Need to create a scalar function space and project/interpolate the magnitude\n",
    "\n",
    "        # For demonstration, let's just plot the Qxx component (index 0 of the vector)\n",
    "        # This requires extracting the component data correctly for plotting\n",
    "        # A robust way is to project/interpolate into a scalar space\n",
    "\n",
    "        # Create a scalar function space (P1)\n",
    "        V_scalar = dolfinx.fem.FunctionSpace(mesh, (\"CG\", 1))\n",
    "        # Create a scalar function for magnitude\n",
    "        Q_magnitude = dolfinx.fem.Function(V_scalar)\n",
    "\n",
    "        # Define a UFL expression for the magnitude\n",
    "        # Need to access components of Q_solution\n",
    "        Q_xx = ufl.real(Q_solution[0]) # Assuming Q_solution is complex, use real if needed\n",
    "        Q_xy = ufl.real(Q_solution[1])\n",
    "        magnitude_expr = ufl.sqrt(2 * (Q_xx**2 + Q_xy**2))\n",
    "\n",
    "        # Project or interpolate the magnitude expression onto the scalar space\n",
    "        # Interpolation is often simpler for visualization\n",
    "        Q_magnitude.interpolate(dolfinx.fem.Expression(magnitude_expr, Q_solution.x.array.real.shape[0], mesh.geometry.cmap)) # Interpolate requires an Expression\n",
    "\n",
    "        # A simpler interpolation method if available or suitable\n",
    "        # Q_magnitude.interpolate(lambda x: np.sqrt(2 * (Q_solution(x)[0]**2 + Q_solution(x)[1]**2)))\n",
    "        # Note: The lambda function approach might not work directly on dolfinx Functions in parallel/general cases.\n",
    "        # Using the UFL expression with interpolate/project is more robust.\n",
    "\n",
    "        # Let's create an Expression from the UFL expression for interpolation\n",
    "        # The Expression needs to know the function space of the input (Q_solution)\n",
    "        # This is a bit involved in DOLFINx. A common way is to evaluate the UFL expression\n",
    "        # at the mesh vertices or DoFs and create a scalar function from those values.\n",
    "\n",
    "        # --- Alternative simple visualization: plot the Qxx component directly if possible ---\n",
    "        # This might depend on the dolfinx.plot version and pyvista compatibility\n",
    "        # A safer way for PyVista is to attach scalar data\n",
    "        # Let's get the DoF values for Qxx (first component)\n",
    "        Qxx_values = Q_solution.x.array.real[0::2] # Assuming DoFs are ordered [Qxx0, Qxy0, Qxx1, Qxy1, ...]\n",
    "\n",
    "        # Need to map DoF values to VTK points\n",
    "        # This can be complex for non-vertex DoFs or in parallel\n",
    "        # For P1 elements, DoFs are at vertices, so we can often map directly\n",
    "        # However, dolfinx.plot.vtk_mesh gives the grid suitable for the function space\n",
    "\n",
    "        cells_pv, types_pv, x_pv = dolfinx.plot.vtk_mesh(V) # Get grid for the function space V\n",
    "        grid_pv = pyvista.UnstructuredGrid(cells_pv, types_pv, x_pv)\n",
    "\n",
    "        # Attach Qxx values as scalar data\n",
    "        grid_pv.point_data[\"Qxx\"] = Q_solution.x.array.real[0::2] # Assuming DoF layout\n",
    "\n",
    "        # Or attach magnitude values (if you computed Q_magnitude)\n",
    "        # grid_pv.point_data[\"Magnitude_Q\"] = Q_magnitude.x.array.real\n",
    "\n",
    "\n",
    "        # Set the active scalar for coloring\n",
    "        grid_pv.set_active_scalars(\"Qxx\") # Color by Qxx\n",
    "\n",
    "        plotter = pyvista.Plotter()\n",
    "        # Add the mesh, colored by the active scalar\n",
    "        plotter.add_mesh(grid_pv, show_edges=False, cmap='viridis') # show_edges=False often looks better with scalar data\n",
    "        # Optionally add a wireframe of the mesh outline\n",
    "        plotter.add_mesh(grid_pv.extract_all_edges(), color='black', line_width=1)\n",
    "\n",
    "\n",
    "        plotter.view_xy()\n",
    "        plotter.reset_camera()\n",
    "        plotter.add_scalar_bar(\"Qxx\") # Add a color bar\n",
    "\n",
    "        plotter.show()\n",
    "\n",
    "\n",
    "    except Exception as e:\n",
    "        print(f\"Error during final PyVista visualization: {e}\")\n",
    "        print(\"Could not visualize the final solution.\")"
   ]
  }
 ],
 "metadata": {
  "kernelspec": {
   "display_name": "Python 3 (ipykernel)",
   "language": "python",
   "name": "python3"
  },
  "language_info": {
   "codemirror_mode": {
    "name": "ipython",
    "version": 3
   },
   "file_extension": ".py",
   "mimetype": "text/x-python",
   "name": "python",
   "nbconvert_exporter": "python",
   "pygments_lexer": "ipython3",
   "version": "3.13.3"
  }
 },
 "nbformat": 4,
 "nbformat_minor": 5
}
